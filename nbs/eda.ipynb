{
 "cells": [
  {
   "cell_type": "markdown",
   "metadata": {},
   "source": [
    "# Exploratory Data Analysis"
   ]
  },
  {
   "cell_type": "markdown",
   "metadata": {},
   "source": [
    "## Import packages"
   ]
  },
  {
   "cell_type": "code",
   "execution_count": 164,
   "metadata": {
    "ExecuteTime": {
     "end_time": "2020-02-22T17:33:32.127291Z",
     "start_time": "2020-02-22T17:33:32.118245Z"
    }
   },
   "outputs": [],
   "source": [
    "import string\n",
    "import collections\n",
    "import json\n",
    "import numpy\n",
    "import matplotlib.pyplot as plt\n",
    "import seaborn as sns"
   ]
  },
  {
   "cell_type": "markdown",
   "metadata": {},
   "source": [
    "## Load data"
   ]
  },
  {
   "cell_type": "code",
   "execution_count": 234,
   "metadata": {
    "ExecuteTime": {
     "end_time": "2020-02-22T18:02:59.742669Z",
     "start_time": "2020-02-22T18:02:59.735614Z"
    }
   },
   "outputs": [],
   "source": [
    "with open('../../wav2info_pilot_data/audioMNIST_meta.txt') as txt_f:  # this txt has json format\n",
    "    metadata = json.load(txt_f)"
   ]
  },
  {
   "cell_type": "markdown",
   "metadata": {},
   "source": [
    "## Show an example"
   ]
  },
  {
   "cell_type": "code",
   "execution_count": 166,
   "metadata": {
    "ExecuteTime": {
     "end_time": "2020-02-22T17:33:32.368876Z",
     "start_time": "2020-02-22T17:33:32.362216Z"
    }
   },
   "outputs": [
    {
     "data": {
      "text/plain": [
       "{'accent': 'german',\n",
       " 'age': 30,\n",
       " 'gender': 'male',\n",
       " 'native speaker': 'no',\n",
       " 'origin': 'Europe, Germany, Wuerzburg',\n",
       " 'recordingdate': '17-06-22-11-04-28',\n",
       " 'recordingroom': 'Kino'}"
      ]
     },
     "execution_count": 166,
     "metadata": {},
     "output_type": "execute_result"
    }
   ],
   "source": [
    "list(metadata.values())[0]"
   ]
  },
  {
   "cell_type": "markdown",
   "metadata": {},
   "source": [
    "## Visualization"
   ]
  },
  {
   "cell_type": "code",
   "execution_count": 228,
   "metadata": {
    "ExecuteTime": {
     "end_time": "2020-02-22T17:43:09.742997Z",
     "start_time": "2020-02-22T17:43:09.731695Z"
    }
   },
   "outputs": [],
   "source": [
    "def get_values_of_attr(attr_name):\n",
    "    \n",
    "    values = [str(example[attr_name]) for example in metadata.values()]\n",
    "    \n",
    "    if values[0][0] in string.ascii_letters:  # values[0][0]: the first char of the first string\n",
    "        values = [i.lower() for i in values]\n",
    "    else:  # first char not ascii -> integer\n",
    "        values = [int(i) for i in values]\n",
    "    \n",
    "    return values"
   ]
  },
  {
   "cell_type": "code",
   "execution_count": 231,
   "metadata": {
    "ExecuteTime": {
     "end_time": "2020-02-22T17:43:21.152354Z",
     "start_time": "2020-02-22T17:43:21.146540Z"
    }
   },
   "outputs": [],
   "source": [
    "def get_histogram(attr_name, ax):\n",
    "    \n",
    "    values = get_values_of_attr(attr_name)\n",
    "    heights = collections.Counter(values)\n",
    "    if type(list(heights.keys())[0]) == int:\n",
    "        heights = collections.OrderedDict(sorted(heights.items()))\n",
    "    \n",
    "    bins = range(len(heights.keys()))\n",
    "    ax.barh(bins, list(heights.values())) #align='center')  # l: bar positions, x.values(): bar height\n",
    "    \n",
    "    ax.set_yticks(bins)\n",
    "    ax.set_yticklabels(heights.keys())\n",
    "    ax.set_xlabel('counts'); ax.set_title(attr_name)"
   ]
  },
  {
   "cell_type": "code",
   "execution_count": 232,
   "metadata": {
    "ExecuteTime": {
     "end_time": "2020-02-22T17:43:22.345123Z",
     "start_time": "2020-02-22T17:43:21.382495Z"
    }
   },
   "outputs": [
    {
     "data": {
      "image/png": "[encoded data removed]",
      "text/plain": [
       "<Figure size 1440x288 with 4 Axes>"
      ]
     },
     "metadata": {
      "needs_background": "light"
     },
     "output_type": "display_data"
    }
   ],
   "source": [
    "fig = plt.figure(figsize=(20, 4))\n",
    "\n",
    "fig.add_subplot(141)\n",
    "get_histogram('accent', ax=plt.gca())\n",
    "\n",
    "fig.add_subplot(142)\n",
    "get_histogram('age', ax=plt.gca())\n",
    "\n",
    "fig.add_subplot(143)\n",
    "get_histogram('gender', ax=plt.gca())\n",
    "\n",
    "fig.add_subplot(144)\n",
    "get_histogram('native speaker', ax=plt.gca())"
   ]
  },
  {
   "cell_type": "code",
   "execution_count": null,
   "metadata": {},
   "outputs": [],
   "source": []
  },
  {
   "cell_type": "code",
   "execution_count": null,
   "metadata": {},
   "outputs": [],
   "source": []
  }
 ],
 "metadata": {
  "kernelspec": {
   "display_name": "Python 3",
   "language": "python",
   "name": "python3"
  },
  "language_info": {
   "codemirror_mode": {
    "name": "ipython",
    "version": 3
   },
   "file_extension": ".py",
   "mimetype": "text/x-python",
   "name": "python",
   "nbconvert_exporter": "python",
   "pygments_lexer": "ipython3",
   "version": "3.6.9"
  },
  "toc": {
   "base_numbering": 1,
   "nav_menu": {},
   "number_sections": false,
   "sideBar": true,
   "skip_h1_title": false,
   "title_cell": "Table of Contents",
   "title_sidebar": "Contents",
   "toc_cell": false,
   "toc_position": {},
   "toc_section_display": true,
   "toc_window_display": true
  }
 },
 "nbformat": 4,
 "nbformat_minor": 2
}
