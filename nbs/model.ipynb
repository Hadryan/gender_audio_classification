{
 "cells": [
  {
   "cell_type": "code",
   "execution_count": 24,
   "metadata": {
    "ExecuteTime": {
     "end_time": "2020-02-26T15:39:00.112830Z",
     "start_time": "2020-02-26T15:39:00.062913Z"
    }
   },
   "outputs": [],
   "source": [
    "%reload_ext autoreload\n",
    "%autoreload 2"
   ]
  },
  {
   "cell_type": "code",
   "execution_count": 56,
   "metadata": {
    "ExecuteTime": {
     "end_time": "2020-02-26T15:45:57.448317Z",
     "start_time": "2020-02-26T15:45:57.331350Z"
    }
   },
   "outputs": [],
   "source": [
    "import torch\n",
    "import torch.nn as nn\n",
    "import torchvision\n",
    "import sys\n",
    "sys.path.append('../scripts')\n",
    "from flatten import Flatten\n",
    "from ConvShapeCalc import fmap_shape_from_sequential"
   ]
  },
  {
   "cell_type": "markdown",
   "metadata": {},
   "source": [
    "Steps:\n",
    "- build the cnn_tools for calculating shape\n",
    "    - annotate and referece my code\n",
    "    - only computes shape for cnn laters\n",
    "    - how should you structure your cnn class to take this advantage\n",
    "- convert all audio files to appropriate formats"
   ]
  },
  {
   "cell_type": "markdown",
   "metadata": {},
   "source": [
    "## Define a neural network class"
   ]
  },
  {
   "cell_type": "code",
   "execution_count": 73,
   "metadata": {
    "ExecuteTime": {
     "end_time": "2020-02-26T15:48:34.431793Z",
     "start_time": "2020-02-26T15:48:34.380950Z"
    }
   },
   "outputs": [],
   "source": [
    "class Vanilla_CNN(nn.Module):\n",
    "    \n",
    "    def __init__(self):\n",
    "        super().__init__()\n",
    "        self.main = nn.Sequential(\n",
    "            nn.Conv2d(1, 64, kernel_size=3, stride=2, padding=1),\n",
    "            nn.MaxPool2d(kernel_size=2),\n",
    "            nn.ReLU(),\n",
    "            \n",
    "            nn.Conv2d(64, 64, kernel_size=3, stride=2, padding=1),\n",
    "            nn.MaxPool2d(kernel_size=2),\n",
    "            nn.ReLU(),\n",
    "            \n",
    "            nn.Conv2d(64, 64, kernel_size=3, stride=2, padding=1),\n",
    "            nn.ReLU(),\n",
    "            \n",
    "            Flatten(),\n",
    "            nn.Linear(64*2*29, 64),\n",
    "            nn.ReLU(),\n",
    "            nn.Linear(64, 10),\n",
    "        )\n",
    "        fmap_shape_from_sequential(self.main, input_shape=(1, 224, 224))\n",
    "    \n",
    "    def forward(self, xb):\n",
    "        xb = xb.view(-1, 1, 12, 229)\n",
    "        xb = self.main(xb)\n",
    "        return xb"
   ]
  },
  {
   "cell_type": "code",
   "execution_count": 74,
   "metadata": {
    "ExecuteTime": {
     "end_time": "2020-02-26T15:48:34.739337Z",
     "start_time": "2020-02-26T15:48:34.681581Z"
    }
   },
   "outputs": [
    {
     "name": "stdout",
     "output_type": "stream",
     "text": [
      "* Input shape: (1, 224, 224) -> Conv2d -> Output shape:  (64, 112, 112)\n",
      "* Input shape: (64, 112, 112) -> MaxPool2d -> Output shape:  (64, 56, 56)\n",
      "* Input shape: (64, 56, 56) -> Conv2d -> Output shape:  (64, 28, 28)\n",
      "* Input shape: (64, 28, 28) -> MaxPool2d -> Output shape:  (64, 14, 14)\n",
      "* Input shape: (64, 14, 14) -> Conv2d -> Output shape:  (64, 7, 7)\n",
      "* Input shape: (64, 7, 7) -> Flatten -> Output shape: 3136\n",
      "* Input shape: 3136 -> Linear -> Output shape: 64\n",
      "* Input shape: 64 -> Linear -> Output shape: 10\n"
     ]
    }
   ],
   "source": [
    "test_cnn = Vanilla_CNN()"
   ]
  },
  {
   "cell_type": "code",
   "execution_count": 75,
   "metadata": {
    "ExecuteTime": {
     "end_time": "2020-02-26T15:48:34.909711Z",
     "start_time": "2020-02-26T15:48:34.867842Z"
    }
   },
   "outputs": [
    {
     "ename": "IndentationError",
     "evalue": "unexpected indent (<ipython-input-75-99723caa4472>, line 2)",
     "output_type": "error",
     "traceback": [
      "\u001b[0;36m  File \u001b[0;32m\"<ipython-input-75-99723caa4472>\"\u001b[0;36m, line \u001b[0;32m2\u001b[0m\n\u001b[0;31m    im = Image.fromarray(np.uint8(cm.gist_earth(myarray)*255))\u001b[0m\n\u001b[0m    ^\u001b[0m\n\u001b[0;31mIndentationError\u001b[0m\u001b[0;31m:\u001b[0m unexpected indent\n"
     ]
    }
   ],
   "source": [
    "from PIL import Image\n",
    "    im = Image.fromarray(np.uint8(cm.gist_earth(myarray)*255))\n",
    "torchvision.transforms.Resize()"
   ]
  },
  {
   "cell_type": "code",
   "execution_count": null,
   "metadata": {},
   "outputs": [],
   "source": []
  }
 ],
 "metadata": {
  "kernelspec": {
   "display_name": "Python 3",
   "language": "python",
   "name": "python3"
  },
  "language_info": {
   "codemirror_mode": {
    "name": "ipython",
    "version": 3
   },
   "file_extension": ".py",
   "mimetype": "text/x-python",
   "name": "python",
   "nbconvert_exporter": "python",
   "pygments_lexer": "ipython3",
   "version": "3.6.9"
  },
  "toc": {
   "base_numbering": 1,
   "nav_menu": {},
   "number_sections": false,
   "sideBar": true,
   "skip_h1_title": false,
   "title_cell": "Table of Contents",
   "title_sidebar": "Contents",
   "toc_cell": false,
   "toc_position": {},
   "toc_section_display": true,
   "toc_window_display": false
  }
 },
 "nbformat": 4,
 "nbformat_minor": 2
}
